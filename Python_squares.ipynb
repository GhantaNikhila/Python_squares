{
 "cells": [
  {
   "cell_type": "code",
   "execution_count": 1,
   "id": "b1233766",
   "metadata": {},
   "outputs": [
    {
     "data": {
      "text/plain": [
       "[16, 25, 4, 81]"
      ]
     },
     "execution_count": 1,
     "metadata": {},
     "output_type": "execute_result"
    }
   ],
   "source": [
    "lst=[4, 5, 2, 9]\n",
    "def squares(num):\n",
    "    return num *num\n",
    "list(map(squares,lst))"
   ]
  },
  {
   "cell_type": "code",
   "execution_count": 2,
   "id": "b7788a96",
   "metadata": {},
   "outputs": [
    {
     "data": {
      "text/plain": [
       "[16, 25, 4, 81]"
      ]
     },
     "execution_count": 2,
     "metadata": {},
     "output_type": "execute_result"
    }
   ],
   "source": [
    "lam=lambda x : x*x\n",
    "list(map(lam,lst))"
   ]
  },
  {
   "cell_type": "code",
   "execution_count": null,
   "id": "a7b233eb",
   "metadata": {},
   "outputs": [],
   "source": []
  }
 ],
 "metadata": {
  "kernelspec": {
   "display_name": "Python 3 (ipykernel)",
   "language": "python",
   "name": "python3"
  },
  "language_info": {
   "codemirror_mode": {
    "name": "ipython",
    "version": 3
   },
   "file_extension": ".py",
   "mimetype": "text/x-python",
   "name": "python",
   "nbconvert_exporter": "python",
   "pygments_lexer": "ipython3",
   "version": "3.9.8"
  }
 },
 "nbformat": 4,
 "nbformat_minor": 5
}
